# === STEP 1: CLONE YOLOv5 AND INSTALL DEPENDENCIES ===
!git clone https://github.com/ultralytics/yolov5
%cd yolov5
!pip install -r requirements.txt

# === STEP 2: INSTALL AND CONNECT TO ROBOFLOW ===
!pip install roboflow
from roboflow import Roboflow

# 🔐 Replace this with your Roboflow API key
rf = Roboflow(api_key="YOUR_API_KEY_HERE")

# 🔁 Replace with your workspace and project names
project = rf.workspace("your-workspace").project("your-project-name")
dataset = project.version(1).download("yolov5")

# === STEP 3: TRAINING ===
!python train.py --img 416 --batch 16 --epochs 50 --data dataset.yaml --weights yolov5s.pt --name affodent-dental-model --cache

# === STEP 4: DOWNLOAD TRAINED MODEL ===
from google.colab import files
files.download('/content/yolov5/runs/train/affodent-dental-model/weights/best.pt')
